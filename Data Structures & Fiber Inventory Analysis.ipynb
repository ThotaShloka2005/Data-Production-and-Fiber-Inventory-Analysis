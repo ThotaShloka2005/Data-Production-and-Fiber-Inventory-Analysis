{
 "cells": [
  {
   "cell_type": "code",
   "execution_count": 2,
   "id": "dd5f6dbf",
   "metadata": {},
   "outputs": [],
   "source": [
    "import pandas as pd"
   ]
  },
  {
   "cell_type": "code",
   "execution_count": 3,
   "id": "ca749db7",
   "metadata": {},
   "outputs": [],
   "source": [
    "# Sample fiber inventory data\n",
    "fiber_inventory = {\n",
    "    \"Softwood\": {\"quantity\": 1200, \"cost_per_kg\": 1.25, \"quality\": 8, \"threshold\": 1000},\n",
    "    \"Hardwood\": {\"quantity\": 800, \"cost_per_kg\": 1.10, \"quality\": 7, \"threshold\": 900},\n",
    "    \"Recycled\": {\"quantity\": 500, \"cost_per_kg\": 0.80, \"quality\": 6, \"threshold\": 600}\n",
    "}"
   ]
  },
  {
   "cell_type": "code",
   "execution_count": 4,
   "id": "1499f5aa",
   "metadata": {},
   "outputs": [],
   "source": [
    "# Function to manage inventory: calculate total value\n",
    "def calculate_total_inventory_value(inventory):\n",
    "    return sum(data['quantity'] * data['cost_per_kg'] for data in inventory.values())"
   ]
  },
  {
   "cell_type": "code",
   "execution_count": 5,
   "id": "bcf9e1d7",
   "metadata": {},
   "outputs": [],
   "source": [
    "# Function to identify low inventory items\n",
    "def get_low_inventory_items(inventory):\n",
    "    return [fiber for fiber, data in inventory.items() if data['quantity'] < data['threshold']]\n"
   ]
  },
  {
   "cell_type": "code",
   "execution_count": 7,
   "id": "8a007fce",
   "metadata": {},
   "outputs": [],
   "source": [
    "# Function to compute basic statistics\n",
    "def display_inventory_statistics(inventory):\n",
    "    total_weight = sum(data['quantity'] for data in inventory.values())\n",
    "    average_quality = sum(data['quality'] for data in inventory.values()) / len(inventory)\n",
    "    "
   ]
  },
  {
   "cell_type": "code",
   "execution_count": null,
   "id": "af041dcb",
   "metadata": {},
   "outputs": [
    {
     "name": "stdout",
     "output_type": "stream",
     "text": [
      "DEBUG: Running inventory statistics function\n",
      "\n",
      "📊 INVENTORY STATISTICS\n",
      "Total Inventory Weight : 2500 kg\n",
      "Average Quality Score  : 7.00\n"
     ]
    }
   ],
   "source": [
    "display_inventory_statistics(fiber_inventory)\n",
    "\n",
    "\n"
   ]
  },
  {
   "cell_type": "code",
   "execution_count": null,
   "id": "6498ef76",
   "metadata": {},
   "outputs": [
    {
     "name": "stdout",
     "output_type": "stream",
     "text": [
      "DEBUG: Running inventory statistics function\n",
      "\n",
      "📊 INVENTORY STATISTICS\n",
      "Total Inventory Weight : 2500 kg\n",
      "Average Quality Score  : 7.00\n"
     ]
    }
   ],
   "source": [
    "def main():\n",
    "    display_inventory_statistics(fiber_inventory)\n",
    "\n",
    "if __name__ == \"__main__\":\n",
    "    main()  # ✅ THIS LINE IS ESSENTIAL\n"
   ]
  },
  {
   "cell_type": "code",
   "execution_count": null,
   "id": "25624988",
   "metadata": {},
   "outputs": [
    {
     "name": "stdout",
     "output_type": "stream",
     "text": [
      "\n",
      "⚠️ LOW INVENTORY ALERTS\n",
      "  - Hardwood stock is below threshold!\n",
      "  - Recycled stock is below threshold!\n"
     ]
    }
   ],
   "source": [
    "alert_low_inventory(fiber_inventory)  # <-- Must be present\n",
    "def get_low_inventory_items(inventory):\n",
    "    return [fiber for fiber, data in inventory.items() if data['quantity'] < data['threshold']]\n",
    "\n"
   ]
  },
  {
   "cell_type": "code",
   "execution_count": null,
   "id": "cb93c181",
   "metadata": {},
   "outputs": [
    {
     "name": "stdout",
     "output_type": "stream",
     "text": [
      "\n",
      "📋 INVENTORY SUMMARY\n",
      "\n",
      "Fiber Type: Softwood\n",
      "  Quantity      : 1200 kg\n",
      "  Cost per kg   : $1.25\n",
      "  Quality Score : 8\n",
      "  Threshold     : 1000 kg\n",
      "\n",
      "Fiber Type: Hardwood\n",
      "  Quantity      : 800 kg\n",
      "  Cost per kg   : $1.1\n",
      "  Quality Score : 7\n",
      "  Threshold     : 900 kg\n",
      "\n",
      "Fiber Type: Recycled\n",
      "  Quantity      : 500 kg\n",
      "  Cost per kg   : $0.8\n",
      "  Quality Score : 6\n",
      "  Threshold     : 600 kg\n",
      "\n",
      "💰 Total Inventory Value: $2780.00\n",
      "\n",
      "⚠️ LOW INVENTORY ALERTS\n",
      "  - Hardwood stock is below threshold!\n",
      "  - Recycled stock is below threshold!\n",
      "DEBUG: Running inventory statistics function\n",
      "\n",
      "📊 INVENTORY STATISTICS\n",
      "Total Inventory Weight : 2500 kg\n",
      "Average Quality Score  : 7.00\n"
     ]
    }
   ],
   "source": [
    "if __name__ == \"__main__\":\n",
    "    main()\n"
   ]
  }
 ],
 "metadata": {
  "kernelspec": {
   "display_name": "Python 3",
   "language": "python",
   "name": "python3"
  },
  "language_info": {
   "codemirror_mode": {
    "name": "ipython",
    "version": 3
   },
   "file_extension": ".py",
   "mimetype": "text/x-python",
   "name": "python",
   "nbconvert_exporter": "python",
   "pygments_lexer": "ipython3",
   "version": "3.12.4"
  }
 },
 "nbformat": 4,
 "nbformat_minor": 5
}
